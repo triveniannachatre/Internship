{
 "cells": [
  {
   "cell_type": "markdown",
   "id": "81232ede",
   "metadata": {},
   "source": [
    "# To Find the factorial of a number"
   ]
  },
  {
   "cell_type": "code",
   "execution_count": 40,
   "id": "886ddbc3",
   "metadata": {},
   "outputs": [
    {
     "name": "stdout",
     "output_type": "stream",
     "text": [
      "Enter the number for which you want to find the factorial: 4\n",
      "The factorial of 4 is 24\n"
     ]
    }
   ],
   "source": [
    "n=int(input(\"Enter the number for which you want to find the factorial: \"))\n",
    "\n",
    "factorial=1\n",
    "\n",
    "for i in range(1,n + 1):\n",
    "       factorial = factorial*i\n",
    "        \n",
    "print(\"The factorial of\",n,\"is\",factorial)"
   ]
  },
  {
   "cell_type": "markdown",
   "id": "71a89368",
   "metadata": {},
   "source": [
    "# To Find whether a number is prime or composite"
   ]
  },
  {
   "cell_type": "code",
   "execution_count": 19,
   "id": "dbe78f8d",
   "metadata": {},
   "outputs": [
    {
     "name": "stdout",
     "output_type": "stream",
     "text": [
      "Enter any number: 6\n",
      "6 is not prime but composite number\n"
     ]
    }
   ],
   "source": [
    "n=int(input(\"Enter any number: \"))\n",
    "\n",
    "if(n==0 or n==1):\n",
    "    \n",
    "    printf(n,\"number is neither prime nor composite\")\n",
    "    \n",
    "elif n>1 :\n",
    "    \n",
    "    for i in range (2,n):\n",
    "        \n",
    "        if(n%i==0):\n",
    "            \n",
    "            print(n,\"is not prime but composite number\")\n",
    "            \n",
    "            break\n",
    "    else :\n",
    "        print(n,\"number is prime and not a composite number\")\n",
    "        \n",
    "else:\n",
    "    print(\"Please enter positive number only\")\n",
    "            "
   ]
  },
  {
   "cell_type": "markdown",
   "id": "c1d89bd9",
   "metadata": {},
   "source": [
    "# To check whether a given string is Palidrome or not"
   ]
  },
  {
   "cell_type": "code",
   "execution_count": 58,
   "id": "3f911a0b",
   "metadata": {},
   "outputs": [
    {
     "name": "stdout",
     "output_type": "stream",
     "text": [
      "Enter a string:civic\n",
      "The string is a palindrome\n"
     ]
    }
   ],
   "source": [
    "string=input((\"Enter a string:\"))\n",
    "\n",
    "if(string==string[::-1]):\n",
    "    \n",
    "      print(\"The string is a palindrome\")\n",
    "else:\n",
    "      print(\"Not a palindrome\")"
   ]
  },
  {
   "cell_type": "markdown",
   "id": "caef276f",
   "metadata": {},
   "source": [
    "# To get the third side of the right angled triangle from two given sides"
   ]
  },
  {
   "cell_type": "code",
   "execution_count": 68,
   "id": "9ea6c56b",
   "metadata": {},
   "outputs": [
    {
     "name": "stdout",
     "output_type": "stream",
     "text": [
      "Enter the length of first side11\n",
      "Enter the length of second side14\n",
      "Hypotenuse = 17.804493814764857\n",
      "Opposite = (5.302876193624535e-16+8.660254037844387j)\n",
      "Adjacent = 8.660254037844387\n"
     ]
    }
   ],
   "source": [
    "side1=int(input(\"Enter the length of first side\"))\n",
    "side2=int(input(\"Enter the length of second side\"))\n",
    "def pythagoras(opposite_side,adjacent_side,hypotenuse):\n",
    "        if opposite_side == str(\"x\"):\n",
    "            return (\"Opposite = \" + str(((hypotenuse**2) - (adjacent_side**2))**0.5))\n",
    "        elif adjacent_side == str(\"x\"):\n",
    "            return (\"Adjacent = \" + str(((hypotenuse**2) - (opposite_side**2))**0.5))\n",
    "        elif hypotenuse == str(\"x\"):\n",
    "            return (\"Hypotenuse = \" + str(((opposite_side**2) + (adjacent_side**2))**0.5))\n",
    "        else:\n",
    "            return \"You know the answer!\"\n",
    "        \n",
    "print(pythagoras(side1,side2,'x'))\n",
    "print(pythagoras('x',side2,side1))\n",
    "print(pythagoras(side1,'x',side2))\n",
    "\n"
   ]
  },
  {
   "cell_type": "markdown",
   "id": "e9598f71",
   "metadata": {},
   "source": [
    "# To print the frequency of each of the characters present in a given string"
   ]
  },
  {
   "cell_type": "code",
   "execution_count": 70,
   "id": "4b294ea4",
   "metadata": {},
   "outputs": [
    {
     "name": "stdout",
     "output_type": "stream",
     "text": [
      "Enter the input string triveni\n",
      "{'t': 1, 'r': 1, 'i': 2, 'v': 1, 'e': 1, 'n': 1}\n"
     ]
    }
   ],
   "source": [
    "myInputString=str(input(\"Enter the input string \"))\n",
    "\n",
    "print(char_frequency(myInputString))\n",
    "\n",
    "def char_frequency(str1):\n",
    "    dict = {}\n",
    "    for n in str1:\n",
    "        keys = dict.keys()\n",
    "        if n in keys:\n",
    "            dict[n] += 1\n",
    "        else:\n",
    "            dict[n] = 1\n",
    "    return dict\n"
   ]
  },
  {
   "cell_type": "code",
   "execution_count": null,
   "id": "a8f906f8",
   "metadata": {},
   "outputs": [],
   "source": []
  }
 ],
 "metadata": {
  "kernelspec": {
   "display_name": "Python 3 (ipykernel)",
   "language": "python",
   "name": "python3"
  },
  "language_info": {
   "codemirror_mode": {
    "name": "ipython",
    "version": 3
   },
   "file_extension": ".py",
   "mimetype": "text/x-python",
   "name": "python",
   "nbconvert_exporter": "python",
   "pygments_lexer": "ipython3",
   "version": "3.9.12"
  }
 },
 "nbformat": 4,
 "nbformat_minor": 5
}
